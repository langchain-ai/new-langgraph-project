{
 "cells": [
  {
   "cell_type": "markdown",
   "id": "f7dd08e4",
   "metadata": {},
   "source": [
    "### 🧠 LangGraph Agent Runner (Notebook)\n",
    "This notebook shows how to connect to a **LangGraph agent**, create a thread, and run it both **locally** and **on a deployed URL**.,\n",
    "It uses the `langgraph_sdk` for both sync and async streaming."
   ]
  },
  {
   "cell_type": "markdown",
   "id": "c5bd3cef",
   "metadata": {},
   "source": [
    "### 📦 Setup"
   ]
  },
  {
   "cell_type": "code",
   "execution_count": 39,
   "id": "daa54356",
   "metadata": {},
   "outputs": [],
   "source": [
    "import os\n",
    "from dotenv import load_dotenv\n",
    "load_dotenv()\n",
    "\n",
    "from langgraph_sdk import get_sync_client, get_client\n",
    "import asyncio"
   ]
  },
  {
   "cell_type": "markdown",
   "id": "7f6e38b1",
   "metadata": {},
   "source": [
    "### ✅ Run Locally"
   ]
  },
  {
   "cell_type": "code",
   "execution_count": 40,
   "id": "f0de2900",
   "metadata": {},
   "outputs": [
    {
     "name": "stdout",
     "output_type": "stream",
     "text": [
      "[Local] Thread ID: 69996b1f-22fe-4ca3-b181-d7a7636e1213\n"
     ]
    }
   ],
   "source": [
    "# Sync client to create thread\n",
    "local_client = get_sync_client(\n",
    "    url=\"http://127.0.0.1:2024\",\n",
    "    api_key=os.getenv(\"LANGGRAPH_PLATFORM_API_KEY\")\n",
    ")\n",
    "\n",
    "thread_local = local_client.threads.create()\n",
    "print(\"[Local] Thread ID:\", thread_local[\"thread_id\"])"
   ]
  },
  {
   "cell_type": "code",
   "execution_count": 43,
   "id": "b2f801fb",
   "metadata": {},
   "outputs": [
    {
     "name": "stdout",
     "output_type": "stream",
     "text": [
      "{'run_id': '1f06d4c7-2cc8-6922-be2a-d8eed4ab94fa', 'attempt': 1}\n",
      "{'MarketingMachine': {'messages': {'content': 'Hi there! Before we chat, could you please share your name and age?', 'additional_kwargs': {'refusal': None}, 'response_metadata': {'token_usage': {'completion_tokens': 16, 'prompt_tokens': 40, 'total_tokens': 56, 'completion_tokens_details': {'accepted_prediction_tokens': 0, 'audio_tokens': 0, 'reasoning_tokens': 0, 'rejected_prediction_tokens': 0}, 'prompt_tokens_details': {'audio_tokens': 0, 'cached_tokens': 0}}, 'model_name': 'gpt-4o-mini-2024-07-18', 'system_fingerprint': 'fp_34a54ae93c', 'id': 'chatcmpl-Bz1WPzSrp0zmPAHxvJgKm9n4ZGep8', 'service_tier': 'default', 'finish_reason': 'stop', 'logprobs': None}, 'type': 'ai', 'name': None, 'id': 'run--9cf23179-25af-464e-9358-ddd8297dd774-0', 'example': False, 'tool_calls': [], 'invalid_tool_calls': [], 'usage_metadata': {'input_tokens': 40, 'output_tokens': 16, 'total_tokens': 56, 'input_token_details': {'audio': 0, 'cache_read': 0}, 'output_token_details': {'audio': 0, 'reasoning': 0}}}, 'info_complete': False}}\n"
     ]
    }
   ],
   "source": [
    "# Async client for streaming\n",
    "local_client_async = get_client(\n",
    "    url=\"http://127.0.0.1:2024\",\n",
    "    api_key=os.getenv(\"LANGGRAPH_PLATFORM_API_KEY\")\n",
    ")\n",
    "\n",
    "async def run_local():\n",
    "    async for chunk in local_client_async.runs.stream(\n",
    "        thread_local[\"thread_id\"],\n",
    "        \"agent \",  # or assistant ID\n",
    "        input={\"messages\": [{\"role\": \"human\", \"content\": \"Hi from local\"}]},\n",
    "        stream_mode=\"updates\"\n",
    "    ):\n",
    "        print(chunk.data)\n",
    "\n",
    "await run_local()"
   ]
  },
  {
   "cell_type": "markdown",
   "id": "2de6af30",
   "metadata": {},
   "source": [
    "### ☁️ Run on Deployed URL"
   ]
  },
  {
   "cell_type": "code",
   "execution_count": 44,
   "id": "bd1d7528",
   "metadata": {},
   "outputs": [
    {
     "name": "stdout",
     "output_type": "stream",
     "text": [
      "[Cloud] Thread ID: c9ffcbc6-0d9c-4b87-908f-fbaa258b0ee1\n"
     ]
    }
   ],
   "source": [
    "# Sync client to create thread\n",
    "cloud_client = get_sync_client(\n",
    "    url=os.getenv(\"LANGGRAPH_PLATFORM_URL\"),\n",
    "    api_key=os.getenv(\"LANGGRAPH_PLATFORM_API_KEY\")\n",
    ")\n",
    "\n",
    "thread_cloud = cloud_client.threads.create()\n",
    "print(\"[Cloud] Thread ID:\", thread_cloud[\"thread_id\"])"
   ]
  },
  {
   "cell_type": "code",
   "execution_count": 46,
   "id": "ce2a57e2",
   "metadata": {},
   "outputs": [
    {
     "name": "stdout",
     "output_type": "stream",
     "text": [
      "{'run_id': '1f06d4c8-2a6f-6df0-b6e2-b9bc576957c3', 'attempt': 1}\n",
      "{'MarketingMachine': {'messages': [{'content': 'Hi there! Before we chat, could you please share your name and age?', 'additional_kwargs': {'refusal': None}, 'response_metadata': {'token_usage': {'completion_tokens': 16, 'prompt_tokens': 44, 'total_tokens': 60, 'completion_tokens_details': {'accepted_prediction_tokens': 0, 'audio_tokens': 0, 'reasoning_tokens': 0, 'rejected_prediction_tokens': 0}, 'prompt_tokens_details': {'audio_tokens': 0, 'cached_tokens': 0}}, 'model_name': 'gpt-4o-mini-2024-07-18', 'system_fingerprint': 'fp_34a54ae93c', 'id': 'chatcmpl-Bz1Wo4QwmMGSWc1cbV647tHUlt3pP', 'service_tier': 'default', 'finish_reason': 'stop', 'logprobs': None}, 'type': 'ai', 'name': None, 'id': 'run--5c05e256-c8a8-43d6-b3b4-1458b438b105-0', 'example': False, 'tool_calls': [], 'invalid_tool_calls': [], 'usage_metadata': {'input_tokens': 44, 'output_tokens': 16, 'total_tokens': 60, 'input_token_details': {'audio': 0, 'cache_read': 0}, 'output_token_details': {'audio': 0, 'reasoning': 0}}}], 'info_complete': False}}\n"
     ]
    }
   ],
   "source": [
    "# Async client for streaming\n",
    "cloud_client_async = get_client(\n",
    "    url=os.getenv(\"LANGGRAPH_PLATFORM_URL\"),\n",
    "    api_key=os.getenv(\"LANGGRAPH_PLATFORM_API_KEY\")\n",
    ")\n",
    "\n",
    "async def run_cloud():\n",
    "    async for chunk in cloud_client_async.runs.stream(\n",
    "        thread_cloud[\"thread_id\"],\n",
    "        \"agent \",  # or assistant ID\n",
    "        input={\"messages\": [{\"role\": \"human\", \"content\": \"Hi from cloud\"}]},\n",
    "        stream_mode=\"updates\"\n",
    "    ):\n",
    "        print(chunk.data)\n",
    "\n",
    "await run_cloud()"
   ]
  },
  {
   "cell_type": "markdown",
   "id": "6c1ee991",
   "metadata": {},
   "source": [
    "### 🚫 Delete Threads "
   ]
  },
  {
   "cell_type": "code",
   "execution_count": null,
   "id": "1aca3d58",
   "metadata": {},
   "outputs": [],
   "source": [
    "from langgraph_sdk import get_sync_client\n",
    "import os\n",
    "\n",
    "sync_client = get_sync_client(\n",
    "    url=\"http://127.0.0.1:2024\",#os.getenv(\"LANGGRAPH_PLATFORM_URL\"),\n",
    "    api_key=os.getenv(\"LANGGRAPH_PLATFORM_API_KEY\")\n",
    ")\n",
    "\n",
    "threads = sync_client.threads.search()\n",
    "for t in threads:\n",
    "    print(\"Thread:\", t[\"thread_id\"], \"Status:\", t[\"status\"])\n",
    "    # delete the thread\n",
    "    sync_client.threads.delete(t[\"thread_id\"])\n",
    "    print(\"Thread deleted:\", t[\"thread_id\"])"
   ]
  },
  {
   "cell_type": "code",
   "execution_count": null,
   "id": "4584c3c6",
   "metadata": {},
   "outputs": [],
   "source": []
  }
 ],
 "metadata": {
  "kernelspec": {
   "display_name": ".venv",
   "language": "python",
   "name": "python3"
  },
  "language_info": {
   "codemirror_mode": {
    "name": "ipython",
    "version": 3
   },
   "file_extension": ".py",
   "mimetype": "text/x-python",
   "name": "python",
   "nbconvert_exporter": "python",
   "pygments_lexer": "ipython3",
   "version": "3.11.13"
  }
 },
 "nbformat": 4,
 "nbformat_minor": 5
}
